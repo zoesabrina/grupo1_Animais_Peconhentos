{
  "nbformat": 4,
  "nbformat_minor": 0,
  "metadata": {
    "colab": {
      "provenance": []
    },
    "kernelspec": {
      "name": "python3",
      "display_name": "Python 3"
    },
    "language_info": {
      "name": "python"
    }
  },
  "cells": [
    {
      "cell_type": "code",
      "source": [
        "import pandas as pd\n",
        "\n",
        "df = pd.read_csv(\"DADOSSUS_ANIMAIS_PECONHENTOS2017.csv\", )"
      ],
      "metadata": {
        "id": "M8RsLU8BXWZ8",
        "colab": {
          "base_uri": "https://localhost:8080/"
        },
        "outputId": "f5bc0ec3-aa59-4fea-c8da-5e1e37ca04dc"
      },
      "execution_count": null,
      "outputs": [
        {
          "output_type": "stream",
          "name": "stderr",
          "text": [
            "<ipython-input-36-2d3ee898cd74>:3: DtypeWarning: Columns (6,68) have mixed types. Specify dtype option on import or set low_memory=False.\n",
            "  df = pd.read_csv(\"DADOSSUS_ANIMAIS_PECONHENTOS2017.csv\", )\n"
          ]
        }
      ]
    },
    {
      "cell_type": "code",
      "execution_count": null,
      "metadata": {
        "colab": {
          "base_uri": "https://localhost:8080/"
        },
        "id": "EY0FKJNzT0yl",
        "outputId": "a7147dc2-03fd-4d3c-8c34-f2520abc1f1d"
      },
      "outputs": [
        {
          "output_type": "stream",
          "name": "stdout",
          "text": [
            "  Data da notificação  Semana da notificação  Ano da notificação  \\\n",
            "0          2017-01-01                 201701                2017   \n",
            "1          2017-01-01                 201701                2017   \n",
            "2          2017-01-01                 201701                2017   \n",
            "3          2017-01-01                 201701                2017   \n",
            "4          2017-01-01                 201701                2017   \n",
            "\n",
            "   Regional de Notificação Data de início dos sintomas  \\\n",
            "0                   1381.0                  2017-01-01   \n",
            "1                   1335.0                  2017-01-01   \n",
            "2                   5584.0                  2016-05-15   \n",
            "3                   1357.0                  2017-01-01   \n",
            "4                   1497.0                  2017-01-01   \n",
            "\n",
            "   Semana de início dos sintomas Data de Nascimento Sexo       Gestante  \\\n",
            "0                         201701             2012.0    M  Não se aplica   \n",
            "1                         201701             1980.0    F       Ignorado   \n",
            "2                         201620             1990.0    F            Não   \n",
            "3                         201701             1954.0    F            Não   \n",
            "4                         201701             2013.0    F  Não se aplica   \n",
            "\n",
            "       Raça  ... Data do encerramento  Data de digitação Idade  \\\n",
            "0     Preta  ...           2017-02-02         2017-02-09     4   \n",
            "1  Ignorado  ...           2017-01-02         2017-01-16    36   \n",
            "2  Indígena  ...           2017-01-01         2017-01-25    25   \n",
            "3    Branca  ...           2017-02-13         2017-02-17    62   \n",
            "4  Ignorado  ...           2017-01-02         2017-03-28     3   \n",
            "\n",
            "    Município de notificação    Município de Residência  \\\n",
            "0           Feira de Santana           Feira de Santana   \n",
            "1                  Juquitiba                  Juquitiba   \n",
            "2  Santa Isabel do Rio Negro  Santa Isabel do Rio Negro   \n",
            "3             Porto Amazonas                   Palmeira   \n",
            "4                     Recife                     Jurema   \n",
            "\n",
            "  Município de ocorrência do acidente                       Ocupação  \\\n",
            "0                    Feira de Santana                            NaN   \n",
            "1                           Juquitiba                            NaN   \n",
            "2           Santa Isabel do Rio Negro  Produtor agrícola polivalente   \n",
            "3                      Porto Amazonas         Aposentado/Pensionista   \n",
            "4                              Jurema                            NaN   \n",
            "\n",
            "  UF de Residência UF de notificação UF do acidente  \n",
            "0               BA                BA             BA  \n",
            "1               SP                SP             SP  \n",
            "2               AM                AM             AM  \n",
            "3               PR                PR             PR  \n",
            "4               PE                PE             PE  \n",
            "\n",
            "[5 rows x 72 columns]\n"
          ]
        }
      ],
      "source": [
        "print(df.head())"
      ]
    },
    {
      "cell_type": "code",
      "source": [
        "print(df.info())"
      ],
      "metadata": {
        "id": "z0QLbH5YeGbb",
        "outputId": "4fce86f2-c47f-4598-f53c-6a74bd69ec5f",
        "colab": {
          "base_uri": "https://localhost:8080/"
        }
      },
      "execution_count": null,
      "outputs": [
        {
          "output_type": "stream",
          "name": "stdout",
          "text": [
            "<class 'pandas.core.frame.DataFrame'>\n",
            "RangeIndex: 222858 entries, 0 to 222857\n",
            "Data columns (total 72 columns):\n",
            " #   Column                                                                             Non-Null Count   Dtype  \n",
            "---  ------                                                                             --------------   -----  \n",
            " 0   Data da notificação                                                                222858 non-null  object \n",
            " 1   Semana da notificação                                                              222858 non-null  int64  \n",
            " 2   Ano da notificação                                                                 222858 non-null  int64  \n",
            " 3   Regional de Notificação                                                            212929 non-null  float64\n",
            " 4   Data de início dos sintomas                                                        222858 non-null  object \n",
            " 5   Semana de início dos sintomas                                                      222858 non-null  int64  \n",
            " 6   Data de Nascimento                                                                 219324 non-null  object \n",
            " 7   Sexo                                                                               222858 non-null  object \n",
            " 8   Gestante                                                                           222851 non-null  object \n",
            " 9   Raça                                                                               219292 non-null  object \n",
            " 10  Escolaridade                                                                       199978 non-null  object \n",
            " 11  País de Residência                                                                 222857 non-null  float64\n",
            " 12  Data da investigação                                                               222858 non-null  object \n",
            " 13  Data do acidente                                                                   222849 non-null  object \n",
            " 14  Tempo decorrido picada/atendimento                                                 216993 non-null  object \n",
            " 15  Local da picada                                                                    222849 non-null  object \n",
            " 16  Manifestações locais                                                               221008 non-null  object \n",
            " 17  Manifestações locais - Dor                                                         207069 non-null  object \n",
            " 18  Manifestações locais - Edema                                                       207061 non-null  object \n",
            " 19  Manifestações locais - Esquimose                                                   207041 non-null  object \n",
            " 20  Manifestações locais - Necrose                                                     207040 non-null  object \n",
            " 21  Manifestações locais - Outras                                                      207027 non-null  object \n",
            " 22  Manifestações locais - Outras - especificada                                       26503 non-null   object \n",
            " 23  Manifestações sistêmicas                                                           218133 non-null  object \n",
            " 24  Manifestações sistêmicas - Neuroparalíticas (ptose, palpebral, turvação visual     15495 non-null   object \n",
            " 25  Manifestações sistêmicas - Hemorrágicas (gengivorragia, outros sangramentos)       15495 non-null   object \n",
            " 26  Manifestações sistêmicas - Vagais (vômitos/ diarreias)                             15495 non-null   object \n",
            " 27  Manifestações sistêmicas - Miolíficas/hemolíticas (mialgia, anemia, urina escura)  15494 non-null   object \n",
            " 28  Manifestações sistêmicas - Renais (oligúria/anúria)                                15494 non-null   object \n",
            " 29  Manifestações sistêmicas - Outras                                                  15493 non-null   object \n",
            " 30  Manifestações sistêmicas - Outras especificada                                     6844 non-null    object \n",
            " 31  Tempo de coagulação                                                                195157 non-null  object \n",
            " 32  Tipo de acidente                                                                   222849 non-null  object \n",
            " 33  Tipo de acidente - outros                                                          9279 non-null    object \n",
            " 34  Serpente - tipo de acidente                                                        28738 non-null   object \n",
            " 35  Aranha - tipo de acidente                                                          33112 non-null   object \n",
            " 36  Lagarta - tipo de acidente                                                         5164 non-null    object \n",
            " 37  Classificação do caso                                                              218123 non-null  object \n",
            " 38  Soroterapia                                                                        222849 non-null  object \n",
            " 39  Soroterapia - Número de ampolas de soro antibrotópico (SAB)                        222858 non-null  int64  \n",
            " 40  Soroterapia - Número de ampolas de soro antivrotálico (SAC)                        222858 non-null  int64  \n",
            " 41  Soroterapia - Número de ampolas de soro antiaracnídico (SAAr)                      222858 non-null  int64  \n",
            " 42  Soroterapia - Número de ampolas de soro antibrotópico-laquético (SABL)             222858 non-null  int64  \n",
            " 43  Soroterapia - Número de ampolas de soro antielapídico (SAEL)                       222858 non-null  int64  \n",
            " 44  Soroterapia - Número de ampolas de soro antiloxoscélico (SALox)                    222858 non-null  int64  \n",
            " 45  Soroterapia - Número de ampolas de soro antibrotópico-crotálico (SABC)             222858 non-null  int64  \n",
            " 46  Soroterapia - Número de ampolas de soro antiescorpiônico (SAEsc)                   222858 non-null  int64  \n",
            " 47  Soroterapia - Número de ampolas de soro antilonômico (SALon)                       222858 non-null  int64  \n",
            " 48  Complicações locais                                                                209695 non-null  object \n",
            " 49  Complicações locais - Infecção secundária                                          2669 non-null    object \n",
            " 50  Complicações locais - Necrose extensa                                              2666 non-null    object \n",
            " 51  Complicações locais - Síndrome comportamental                                      2666 non-null    object \n",
            " 52  Complicações locais - Déficit Funcional                                            2665 non-null    object \n",
            " 53  Complicações locais - Amputação                                                    2665 non-null    object \n",
            " 54  Complicações sistêmicas                                                            207942 non-null  object \n",
            " 55  Complicações sistêmicas - Insuficiência renal                                      853 non-null     object \n",
            " 56  Complicações sistêmicas - Insuficiência Respiratória/Edema Pulmonar Agudo          852 non-null     object \n",
            " 57  Complicações sistêmicas - Septicemia                                               852 non-null     object \n",
            " 58  Complicações sistêmicas - Choque                                                   852 non-null     object \n",
            " 59  Acidente relacionado ao trabalho                                                   212492 non-null  object \n",
            " 60  Evolução do caso                                                                   211354 non-null  object \n",
            " 61  Data do óbito                                                                      216 non-null     object \n",
            " 62  Data do encerramento                                                               217816 non-null  object \n",
            " 63  Data de digitação                                                                  222858 non-null  object \n",
            " 64  Idade                                                                              222858 non-null  int64  \n",
            " 65  Município de notificação                                                           222858 non-null  object \n",
            " 66  Município de Residência                                                            222741 non-null  object \n",
            " 67  Município de ocorrência do acidente                                                221680 non-null  object \n",
            " 68  Ocupação                                                                           49439 non-null   object \n",
            " 69  UF de Residência                                                                   222784 non-null  object \n",
            " 70  UF de notificação                                                                  222858 non-null  object \n",
            " 71  UF do acidente                                                                     222849 non-null  object \n",
            "dtypes: float64(2), int64(13), object(57)\n",
            "memory usage: 122.4+ MB\n",
            "None\n"
          ]
        }
      ]
    },
    {
      "cell_type": "code",
      "source": [
        "columns_to_plot = ['Tipo de acidente', 'Tipo de acidente - outros',\n",
        "                   'Serpente - tipo de acidente', 'Aranha - tipo de acidente', 'Lagarta - tipo de acidente']\n",
        "\n",
        "filtered_df = df[columns_to_plot]\n",
        "filtered_df = filtered_df.dropna(subset=['Tipo de acidente'])\n",
        "\n",
        "count_table = filtered_df['Tipo de acidente'].value_counts()\n",
        "count_table.plot(kind='bar', figsize=(7, 3), xlabel='Tipo de Acidente', ylabel='Contagem', color='green', title='Contagem de Casos por Tipo de Acidente')"
      ],
      "metadata": {
        "colab": {
          "base_uri": "https://localhost:8080/",
          "height": 404
        },
        "id": "jzHakOpw2QIl",
        "outputId": "08837388-5c4e-4df1-9cac-f41197b8045a"
      },
      "execution_count": null,
      "outputs": [
        {
          "output_type": "execute_result",
          "data": {
            "text/plain": [
              "<Axes: title={'center': 'Contagem de Casos por Tipo de Acidente'}, xlabel='Tipo de Acidente', ylabel='Contagem'>"
            ]
          },
          "metadata": {},
          "execution_count": 60
        },
        {
          "output_type": "display_data",
          "data": {
            "text/plain": [
              "<Figure size 700x300 with 1 Axes>"
            ],
            "image/png": "[encoded data removed]"
          },
          "metadata": {}
        }
      ]
    },
    {
      "cell_type": "code",
      "source": [
        "!pip install fpdf2\n",
        "from fpdf import FPDF\n",
        "import pandas as pd\n",
        "import matplotlib.pyplot as plt\n",
        "\n",
        "\n",
        "df = pd.read_csv(\"DADOSSUS_ANIMAIS_PECONHENTOS2017.csv\")\n",
        "\n",
        "columns_to_plot = ['Tipo de acidente', 'Tipo de acidente - outros',\n",
        "                   'Serpente - tipo de acidente', 'Aranha - tipo de acidente', 'Lagarta - tipo de acidente']\n",
        "\n",
        "filtered_df = df[columns_to_plot]\n",
        "filtered_df = filtered_df.dropna(subset=['Tipo de acidente'])\n",
        "\n",
        "count_table = filtered_df['Tipo de acidente'].value_counts()\n",
        "\n",
        "count_table.plot(kind='bar', figsize=(7, 5), xlabel='Tipo de Acidente', ylabel='Contagem', color='green', title='Contagem de Casos por Tipo de Acidente')\n",
        "plt.tight_layout()\n",
        "\n",
        "plt.savefig(\"grafico.png\", format='png')\n",
        "plt.close()\n",
        "\n",
        "pdf = FPDF()\n",
        "pdf.add_page()\n",
        "pdf.set_font(\"Arial\", size=16, style='B')\n",
        "pdf.ln(20)\n",
        "\n",
        "pdf.cell(200, 10, \"Relatório de Acidentes com Animais Peçonhentos\", ln=True, align='C')\n",
        "pdf.ln(10)\n",
        "\n",
        "pdf.set_font(\"Arial\", size=12)\n",
        "pdf.multi_cell(0, 10, \"Relatório de contagem de casos por tipo de acidente envolvendo animais peçonhentos.\", align='C')\n",
        "pdf.ln(15)\n",
        "\n",
        "pdf.image(\"grafico.png\", x=15, w=180)\n",
        "\n",
        "pdf.output(\"relatorio_animais_peconhentos.pdf\")\n"
      ],
      "metadata": {
        "colab": {
          "base_uri": "https://localhost:8080/"
        },
        "id": "JwOlJiLhhpY7",
        "outputId": "27fe3987-030c-46a3-96f4-c540996c5814"
      },
      "execution_count": null,
      "outputs": [
        {
          "output_type": "stream",
          "name": "stdout",
          "text": [
            "Requirement already satisfied: fpdf2 in /usr/local/lib/python3.10/dist-packages (2.7.5)\n",
            "Requirement already satisfied: defusedxml in /usr/local/lib/python3.10/dist-packages (from fpdf2) (0.7.1)\n",
            "Requirement already satisfied: Pillow!=9.2.*,>=6.2.2 in /usr/local/lib/python3.10/dist-packages (from fpdf2) (9.4.0)\n",
            "Requirement already satisfied: fonttools>=4.34.0 in /usr/local/lib/python3.10/dist-packages (from fpdf2) (4.42.1)\n"
          ]
        },
        {
          "output_type": "stream",
          "name": "stderr",
          "text": [
            "<ipython-input-28-e3009c4a70d7>:7: DtypeWarning: Columns (6,68) have mixed types. Specify dtype option on import or set low_memory=False.\n",
            "  df = pd.read_csv(\"DADOSSUS_ANIMAIS_PECONHENTOS2017.csv\")\n",
            "<ipython-input-28-e3009c4a70d7>:25: UserWarning: Substituting font arial by core font helvetica\n",
            "  pdf.set_font(\"Arial\", size=16, style='B')\n",
            "<ipython-input-28-e3009c4a70d7>:28: DeprecationWarning: The parameter \"ln\" is deprecated. Instead of ln=True use new_x=XPos.LMARGIN, new_y=YPos.NEXT.\n",
            "  pdf.cell(200, 10, \"Relatório de Acidentes com Animais Peçonhentos\", ln=True, align='C')\n",
            "<ipython-input-28-e3009c4a70d7>:31: UserWarning: Substituting font arial by core font helvetica\n",
            "  pdf.set_font(\"Arial\", size=12)\n"
          ]
        }
      ]
    }
  ]
}